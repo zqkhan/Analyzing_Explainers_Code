{
 "cells": [
  {
   "cell_type": "code",
   "execution_count": null,
   "id": "5e6091e3",
   "metadata": {},
   "outputs": [],
   "source": [
    "cd ../"
   ]
  },
  {
   "cell_type": "code",
   "execution_count": 2,
   "id": "d92126f6",
   "metadata": {},
   "outputs": [
    {
     "name": "stderr",
     "output_type": "stream",
     "text": [
      "/home/zulqarnain/anaconda3/envs/old_tf/lib/python3.7/site-packages/tensorflow/python/framework/dtypes.py:526: FutureWarning: Passing (type, 1) or '1type' as a synonym of type is deprecated; in a future version of numpy, it will be understood as (type, (1,)) / '(1,)type'.\n",
      "  _np_qint8 = np.dtype([(\"qint8\", np.int8, 1)])\n",
      "/home/zulqarnain/anaconda3/envs/old_tf/lib/python3.7/site-packages/tensorflow/python/framework/dtypes.py:527: FutureWarning: Passing (type, 1) or '1type' as a synonym of type is deprecated; in a future version of numpy, it will be understood as (type, (1,)) / '(1,)type'.\n",
      "  _np_quint8 = np.dtype([(\"quint8\", np.uint8, 1)])\n",
      "/home/zulqarnain/anaconda3/envs/old_tf/lib/python3.7/site-packages/tensorflow/python/framework/dtypes.py:528: FutureWarning: Passing (type, 1) or '1type' as a synonym of type is deprecated; in a future version of numpy, it will be understood as (type, (1,)) / '(1,)type'.\n",
      "  _np_qint16 = np.dtype([(\"qint16\", np.int16, 1)])\n",
      "/home/zulqarnain/anaconda3/envs/old_tf/lib/python3.7/site-packages/tensorflow/python/framework/dtypes.py:529: FutureWarning: Passing (type, 1) or '1type' as a synonym of type is deprecated; in a future version of numpy, it will be understood as (type, (1,)) / '(1,)type'.\n",
      "  _np_quint16 = np.dtype([(\"quint16\", np.uint16, 1)])\n",
      "/home/zulqarnain/anaconda3/envs/old_tf/lib/python3.7/site-packages/tensorflow/python/framework/dtypes.py:530: FutureWarning: Passing (type, 1) or '1type' as a synonym of type is deprecated; in a future version of numpy, it will be understood as (type, (1,)) / '(1,)type'.\n",
      "  _np_qint32 = np.dtype([(\"qint32\", np.int32, 1)])\n",
      "/home/zulqarnain/anaconda3/envs/old_tf/lib/python3.7/site-packages/tensorflow/python/framework/dtypes.py:535: FutureWarning: Passing (type, 1) or '1type' as a synonym of type is deprecated; in a future version of numpy, it will be understood as (type, (1,)) / '(1,)type'.\n",
      "  np_resource = np.dtype([(\"resource\", np.ubyte, 1)])\n"
     ]
    }
   ],
   "source": [
    "import pickle\n",
    "import numpy as np\n",
    "import argparse\n",
    "\n",
    "import matplotlib.pyplot as plt\n",
    "\n",
    "import pandas as pd\n",
    "from sklearn.preprocessing import StandardScaler\n",
    "from sklearn.model_selection import train_test_split\n",
    "from scipy.spatial.distance import pdist\n",
    "\n",
    "from tensorflow.python.keras.layers import Dense, Input, Flatten, Add, Multiply, Lambda\n",
    "from tensorflow.python.keras.layers.normalization import BatchNormalization\n",
    "from tensorflow.python.keras import regularizers\n",
    "from tensorflow.python.keras.models import Model, Sequential\n",
    "from tensorflow.python.keras import optimizers\n",
    "from tensorflow.python.keras.callbacks import ModelCheckpoint\n",
    "import warnings\n",
    "warnings.filterwarnings(\"ignore\")\n",
    "from tqdm import tqdm\n",
    "\n",
    "from utils.explanations import calculate_robust_astute_sampled\n",
    "\n",
    "np.random.seed(0)"
   ]
  },
  {
   "cell_type": "code",
   "execution_count": 3,
   "id": "67d1408d",
   "metadata": {},
   "outputs": [],
   "source": [
    "datatype = 'telescope'\n",
    "run_times = 5\n",
    "prop_points = 0.05\n",
    "calculate = True\n",
    "epsilon_range = np.arange(0.01, 1.1, 0.05)"
   ]
  },
  {
   "cell_type": "code",
   "execution_count": 4,
   "id": "c89119f9",
   "metadata": {},
   "outputs": [],
   "source": [
    "data_dict = pd.read_csv('data/magic04.data').values\n",
    "data = data_dict[:, :-1]\n",
    "labels = data_dict[:, -1]\n",
    "labels[labels == 'h'] = 0\n",
    "labels[labels == 'g'] = 1\n",
    "x_train, x_val, y_train, y_val = train_test_split(data, labels, test_size=0.05, stratify=labels, random_state=42)\n",
    "x_train = StandardScaler().fit_transform(x_train)\n",
    "x_val = StandardScaler().fit_transform(x_val)\n",
    "input_shape = x_train.shape[-1]"
   ]
  },
  {
   "cell_type": "code",
   "execution_count": 5,
   "id": "c1688da4",
   "metadata": {},
   "outputs": [],
   "source": [
    "median_rad = np.median(pdist(x_train))"
   ]
  },
  {
   "cell_type": "code",
   "execution_count": 6,
   "id": "a0b9789b",
   "metadata": {},
   "outputs": [],
   "source": [
    "save_astuteness_file = 'plots/rise_' + datatype + '_astuteness_classifiers.pk'\n",
    "classifiers = ['2layer', '4layer', 'linear', 'svm']"
   ]
  },
  {
   "cell_type": "code",
   "execution_count": 7,
   "id": "5e5a9c34",
   "metadata": {},
   "outputs": [
    {
     "name": "stdout",
     "output_type": "stream",
     "text": [
      "Completing Run 1 of 5\n",
      "WARNING:tensorflow:From /home/zulqarnain/anaconda3/envs/old_tf/lib/python3.7/site-packages/tensorflow/python/ops/resource_variable_ops.py:435: colocate_with (from tensorflow.python.framework.ops) is deprecated and will be removed in a future version.\n",
      "Instructions for updating:\n",
      "Colocations handled automatically by placer.\n"
     ]
    },
    {
     "name": "stderr",
     "output_type": "stream",
     "text": [
      "2022-05-18 12:07:01.016385: I tensorflow/core/platform/cpu_feature_guard.cc:141] Your CPU supports instructions that this TensorFlow binary was not compiled to use: AVX2 FMA\n",
      "2022-05-18 12:07:01.038031: I tensorflow/core/platform/profile_utils/cpu_utils.cc:94] CPU Frequency: 3600000000 Hz\n",
      "2022-05-18 12:07:01.038344: I tensorflow/compiler/xla/service/service.cc:150] XLA service 0x557861900820 executing computations on platform Host. Devices:\n",
      "2022-05-18 12:07:01.038358: I tensorflow/compiler/xla/service/service.cc:158]   StreamExecutor device (0): <undefined>, <undefined>\n",
      "100%|█████████████████████████████████████| 22/22 [03:10<00:00,  8.67s/it]\n",
      "100%|█████████████████████████████████████| 22/22 [04:37<00:00, 12.60s/it]\n",
      "100%|█████████████████████████████████████| 22/22 [03:17<00:00,  8.97s/it]\n",
      "100%|█████████████████████████████████████| 22/22 [26:42<00:00, 72.82s/it]\n",
      "  0%|                                              | 0/22 [00:00<?, ?it/s]"
     ]
    },
    {
     "name": "stdout",
     "output_type": "stream",
     "text": [
      "Completing Run 2 of 5\n"
     ]
    },
    {
     "name": "stderr",
     "output_type": "stream",
     "text": [
      "100%|█████████████████████████████████████| 22/22 [02:44<00:00,  7.46s/it]\n",
      "100%|█████████████████████████████████████| 22/22 [04:06<00:00, 11.20s/it]\n",
      "100%|█████████████████████████████████████| 22/22 [02:50<00:00,  7.77s/it]\n",
      "100%|█████████████████████████████████████| 22/22 [28:33<00:00, 77.90s/it]\n",
      "  0%|                                              | 0/22 [00:00<?, ?it/s]"
     ]
    },
    {
     "name": "stdout",
     "output_type": "stream",
     "text": [
      "Completing Run 3 of 5\n"
     ]
    },
    {
     "name": "stderr",
     "output_type": "stream",
     "text": [
      "100%|█████████████████████████████████████| 22/22 [03:16<00:00,  8.95s/it]\n",
      "100%|█████████████████████████████████████| 22/22 [04:45<00:00, 12.97s/it]\n",
      "100%|█████████████████████████████████████| 22/22 [03:20<00:00,  9.13s/it]\n",
      "100%|█████████████████████████████████████| 22/22 [35:28<00:00, 96.74s/it]\n",
      "  0%|                                              | 0/22 [00:00<?, ?it/s]"
     ]
    },
    {
     "name": "stdout",
     "output_type": "stream",
     "text": [
      "Completing Run 4 of 5\n"
     ]
    },
    {
     "name": "stderr",
     "output_type": "stream",
     "text": [
      "100%|█████████████████████████████████████| 22/22 [06:17<00:00, 17.14s/it]\n",
      "100%|█████████████████████████████████████| 22/22 [08:06<00:00, 22.10s/it]\n",
      "100%|█████████████████████████████████████| 22/22 [05:40<00:00, 15.47s/it]\n",
      "100%|████████████████████████████████████| 22/22 [43:06<00:00, 117.57s/it]\n",
      "  0%|                                              | 0/22 [00:00<?, ?it/s]"
     ]
    },
    {
     "name": "stdout",
     "output_type": "stream",
     "text": [
      "Completing Run 5 of 5\n"
     ]
    },
    {
     "name": "stderr",
     "output_type": "stream",
     "text": [
      "100%|█████████████████████████████████████| 22/22 [04:45<00:00, 12.96s/it]\n",
      "100%|█████████████████████████████████████| 22/22 [06:55<00:00, 18.89s/it]\n",
      "100%|█████████████████████████████████████| 22/22 [05:02<00:00, 13.74s/it]\n",
      "100%|████████████████████████████████████| 22/22 [41:30<00:00, 113.20s/it]\n"
     ]
    },
    {
     "data": {
      "image/png": "[encoded data removed]",
      "text/plain": [
       "<Figure size 432x288 with 1 Axes>"
      ]
     },
     "metadata": {
      "needs_background": "light"
     },
     "output_type": "display_data"
    }
   ],
   "source": [
    "if calculate:\n",
    "    total_astuteness = np.zeros(shape=(run_times, len(classifiers), len(epsilon_range)))\n",
    "    for i in range(run_times):\n",
    "        print('Completing Run ' + str(i + 1) + ' of ' + str(run_times))\n",
    "        for j in range(len(classifiers)):\n",
    "            if classifiers[j] == '2layer':\n",
    "                activation = 'relu'\n",
    "\n",
    "                model_input = Input(shape=(input_shape,), dtype='float32')\n",
    "\n",
    "                net = Dense(32, activation=activation, name='dense1',\n",
    "                            kernel_regularizer=regularizers.l2(1e-3))(model_input)\n",
    "\n",
    "                preds = Dense(1, activation='sigmoid', name='dense3',\n",
    "                              kernel_regularizer=regularizers.l2(1e-3))(net)\n",
    "                bbox_model = Model(model_input, preds)\n",
    "                bbox_model.load_weights('models/' + datatype + '_blackbox.hdf5',\n",
    "                                        by_name=True)\n",
    "                pred_model = Model(model_input, preds)\n",
    "\n",
    "            elif classifiers[j] == '4layer':\n",
    "                activation = 'relu' if datatype in ['orange_skin', 'XOR'] else 'selu'\n",
    "\n",
    "                model_input = Input(shape=(input_shape,), dtype='float32')\n",
    "\n",
    "                net = Dense(32, activation=activation, name='dense1',\n",
    "                            kernel_regularizer=regularizers.l2(1e-3))(model_input)\n",
    "                net = Dense(32, activation=activation, name='dense2',\n",
    "                            kernel_regularizer=regularizers.l2(1e-3))(net)\n",
    "                net = Dense(32, activation=activation, name='dense3',\n",
    "                            kernel_regularizer=regularizers.l2(1e-3))(net)\n",
    "                net = Dense(32, activation=activation, name='dense4',\n",
    "                            kernel_regularizer=regularizers.l2(1e-3))(net)\n",
    "                preds = Dense(1, activation='sigmoid', name='dense5',\n",
    "                              kernel_regularizer=regularizers.l2(1e-3))(net)\n",
    "                bbox_model = Model(model_input, preds)\n",
    "                bbox_model.load_weights('models/' + datatype + '_blackbox_extra.hdf5',\n",
    "                                        by_name=True)\n",
    "                pred_model = Model(model_input, preds)\n",
    "\n",
    "\n",
    "            elif classifiers[j] == 'linear':\n",
    "                activation = None\n",
    "\n",
    "                model_input = Input(shape=(input_shape,), dtype='float32')\n",
    "\n",
    "                net = Dense(32, activation=activation, name='dense1',\n",
    "                            kernel_regularizer=regularizers.l2(1e-3))(model_input)\n",
    "\n",
    "                preds = Dense(1, activation='sigmoid', name='dense3',\n",
    "                              kernel_regularizer=regularizers.l2(1e-3))(net)\n",
    "                bbox_model = Model(model_input, preds)\n",
    "                bbox_model.load_weights('models/' + datatype + '_blackbox_linear.hdf5',\n",
    "                                        by_name=True)\n",
    "                pred_model = Model(model_input, preds)\n",
    "            elif classifiers[j] == 'svm':\n",
    "                pred_model = pickle.load(open('models/' + datatype + '_svm.pk', 'rb'))\n",
    "            fname = 'explained_weights/rise/' + 'rise_' + datatype + '_' + classifiers[j] + '_' + str(\n",
    "                i) + '.gz'\n",
    "            explanations = np.loadtxt(fname, delimiter=',')\n",
    "            if classifiers[j] == 'svm':\n",
    "                for k in tqdm(range(len(epsilon_range))):\n",
    "                    _, total_astuteness[i, j, k], _ = calculate_robust_astute_sampled(data=x_val,\n",
    "                                                                                      explainer=pred_model,\n",
    "                                                                                      explainer_type='rise',\n",
    "                                                                                      explanation_type='attribution',\n",
    "                                                                                      ball_r=median_rad,\n",
    "                                                                                      epsilon=epsilon_range[k],\n",
    "                                                                                      num_points=int(\n",
    "                                                                                          prop_points * len(\n",
    "                                                                                              x_val)),\n",
    "                                                                                      NN=False,\n",
    "                                                                                      data_explanation=explanations)\n",
    "            else:\n",
    "                for k in tqdm(range(len(epsilon_range))):\n",
    "                    _, total_astuteness[i, j, k], _ = calculate_robust_astute_sampled(data=x_val,\n",
    "                                                                                      explainer=pred_model,\n",
    "                                                                                      explainer_type='rise',\n",
    "                                                                                      explanation_type='attribution',\n",
    "                                                                                      ball_r=median_rad,\n",
    "                                                                                      epsilon=epsilon_range[k],\n",
    "                                                                                      num_points=int(\n",
    "                                                                                          prop_points * len(\n",
    "                                                                                              x_val)),\n",
    "                                                                                      NN=True,\n",
    "                                                                                      data_explanation=explanations)\n",
    "    pickle.dump(total_astuteness, open(save_astuteness_file, 'wb'))\n",
    "else:\n",
    "    total_astuteness = pickle.load(open(save_astuteness_file, 'rb'))\n",
    "astuteness_mean = total_astuteness.mean(axis=0)\n",
    "astuteness_std = total_astuteness.std(axis=0)\n",
    "image_name = 'plots/rise_' + datatype + '_astuteness_classifiers.PNG'\n",
    "fig, ax = plt.subplots()\n",
    "for i in range(len(classifiers)):\n",
    "    ax.errorbar(x=epsilon_range, y=astuteness_mean[i, :], yerr=astuteness_std[i, :],\n",
    "                label=classifiers[i])\n",
    "plt.legend()\n",
    "plt.savefig(image_name)"
   ]
  }
 ],
 "metadata": {
  "kernelspec": {
   "display_name": "Python 3 (ipykernel)",
   "language": "python",
   "name": "python3"
  },
  "language_info": {
   "codemirror_mode": {
    "name": "ipython",
    "version": 3
   },
   "file_extension": ".py",
   "mimetype": "text/x-python",
   "name": "python",
   "nbconvert_exporter": "python",
   "pygments_lexer": "ipython3",
   "version": "3.9.7"
  }
 },
 "nbformat": 4,
 "nbformat_minor": 5
}
