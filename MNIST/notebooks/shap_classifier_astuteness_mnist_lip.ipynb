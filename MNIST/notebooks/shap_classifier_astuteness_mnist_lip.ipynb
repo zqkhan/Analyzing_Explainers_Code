{
 "cells": [
  {
   "cell_type": "code",
   "execution_count": null,
   "id": "e1591a7e",
   "metadata": {},
   "outputs": [],
   "source": [
    "cd ../"
   ]
  },
  {
   "cell_type": "code",
   "execution_count": 2,
   "id": "785b8f6d",
   "metadata": {},
   "outputs": [
    {
     "name": "stderr",
     "output_type": "stream",
     "text": [
      "/home/zulqarnain/anaconda3/envs/old_tf/lib/python3.7/site-packages/tensorflow/python/framework/dtypes.py:526: FutureWarning: Passing (type, 1) or '1type' as a synonym of type is deprecated; in a future version of numpy, it will be understood as (type, (1,)) / '(1,)type'.\n",
      "  _np_qint8 = np.dtype([(\"qint8\", np.int8, 1)])\n",
      "/home/zulqarnain/anaconda3/envs/old_tf/lib/python3.7/site-packages/tensorflow/python/framework/dtypes.py:527: FutureWarning: Passing (type, 1) or '1type' as a synonym of type is deprecated; in a future version of numpy, it will be understood as (type, (1,)) / '(1,)type'.\n",
      "  _np_quint8 = np.dtype([(\"quint8\", np.uint8, 1)])\n",
      "/home/zulqarnain/anaconda3/envs/old_tf/lib/python3.7/site-packages/tensorflow/python/framework/dtypes.py:528: FutureWarning: Passing (type, 1) or '1type' as a synonym of type is deprecated; in a future version of numpy, it will be understood as (type, (1,)) / '(1,)type'.\n",
      "  _np_qint16 = np.dtype([(\"qint16\", np.int16, 1)])\n",
      "/home/zulqarnain/anaconda3/envs/old_tf/lib/python3.7/site-packages/tensorflow/python/framework/dtypes.py:529: FutureWarning: Passing (type, 1) or '1type' as a synonym of type is deprecated; in a future version of numpy, it will be understood as (type, (1,)) / '(1,)type'.\n",
      "  _np_quint16 = np.dtype([(\"quint16\", np.uint16, 1)])\n",
      "/home/zulqarnain/anaconda3/envs/old_tf/lib/python3.7/site-packages/tensorflow/python/framework/dtypes.py:530: FutureWarning: Passing (type, 1) or '1type' as a synonym of type is deprecated; in a future version of numpy, it will be understood as (type, (1,)) / '(1,)type'.\n",
      "  _np_qint32 = np.dtype([(\"qint32\", np.int32, 1)])\n",
      "/home/zulqarnain/anaconda3/envs/old_tf/lib/python3.7/site-packages/tensorflow/python/framework/dtypes.py:535: FutureWarning: Passing (type, 1) or '1type' as a synonym of type is deprecated; in a future version of numpy, it will be understood as (type, (1,)) / '(1,)type'.\n",
      "  np_resource = np.dtype([(\"resource\", np.ubyte, 1)])\n",
      "Using TensorFlow backend.\n"
     ]
    }
   ],
   "source": [
    "import matplotlib.pyplot as plt\n",
    "\n",
    "import pickle\n",
    "import numpy as np\n",
    "import argparse\n",
    "\n",
    "import pandas as pd\n",
    "from sklearn.preprocessing import StandardScaler\n",
    "from sklearn.model_selection import train_test_split\n",
    "from scipy.spatial.distance import pdist\n",
    "\n",
    "from tensorflow.python.keras.layers import Dense, Input, Flatten, Add, Multiply, Lambda\n",
    "from tensorflow.python.keras.layers.normalization import BatchNormalization\n",
    "from tensorflow.python.keras import regularizers\n",
    "from tensorflow.python.keras.models import Model, Sequential\n",
    "from tensorflow.python.keras import optimizers\n",
    "from tensorflow.python.keras.callbacks import ModelCheckpoint\n",
    "from keras.utils import to_categorical\n",
    "\n",
    "import warnings\n",
    "warnings.filterwarnings(\"ignore\")\n",
    "from tqdm import tqdm\n",
    "\n",
    "from utils.explanations import calculate_robust_astute_sampled\n",
    "import shap\n",
    "\n",
    "np.random.seed(0)"
   ]
  },
  {
   "cell_type": "code",
   "execution_count": 3,
   "id": "693d6453",
   "metadata": {},
   "outputs": [],
   "source": [
    "def set_all_weights(model, all_layer_weights):\n",
    "    count = 0\n",
    "    for layer in model.layers:\n",
    "        if type(layer) is Dense:\n",
    "            count += 1\n",
    "    if count == len(all_layer_weights):\n",
    "        c = 0\n",
    "        for layer in model.layers:\n",
    "            if type(layer) is Dense:\n",
    "                layer.set_weights(all_layer_weights[c])\n",
    "                c += 1\n",
    "        return model\n",
    "    else:\n",
    "        print(\"models don't match\")"
   ]
  },
  {
   "cell_type": "code",
   "execution_count": 4,
   "id": "a9041049",
   "metadata": {},
   "outputs": [],
   "source": [
    "datatype = 'mnist'\n",
    "run_times = 5\n",
    "prop_points = 0.05\n",
    "calculate = False\n",
    "epsilon_range = np.arange(0.01, 1.1, 0.05)"
   ]
  },
  {
   "cell_type": "code",
   "execution_count": 5,
   "id": "566c22c8",
   "metadata": {},
   "outputs": [],
   "source": [
    "mnist = pickle.load(open('data/mnist_10_10_train.pkl', 'rb'))\n",
    "data = mnist[1]\n",
    "labels = mnist[0]\n",
    "x_train, x_val, y_train, y_val = train_test_split(data, labels, test_size=0.1, random_state=42)\n",
    "x_train = np.array(x_train).reshape(-1, x_train[0].shape[0]*x_train[0].shape[1])\n",
    "x_val = np.array(x_val).reshape(-1, x_val[0].shape[0]*x_val[0].shape[1])\n",
    "y_train, y_val = np.array(y_train), np.array(y_val)\n",
    "y_train, y_val = to_categorical(y_train), to_categorical(y_val)\n",
    "input_shape = x_train.shape[-1]    \n",
    "input_shape = x_train.shape[-1]"
   ]
  },
  {
   "cell_type": "code",
   "execution_count": 6,
   "id": "a41ae9e1",
   "metadata": {},
   "outputs": [],
   "source": [
    "median_rad = 1 * np.median(pdist(x_train))"
   ]
  },
  {
   "cell_type": "code",
   "execution_count": 7,
   "id": "c6e6640e",
   "metadata": {},
   "outputs": [],
   "source": [
    "save_astuteness_file = 'plots/shap_' + datatype + '_astuteness_classifiers_lip.pk'\n",
    "lambda_dense_list = [float(1.5), float(2), float(\"inf\")]\n",
    "lambda_names = ['Regularized High', 'Regularized Low', 'Not Regularized']"
   ]
  },
  {
   "cell_type": "code",
   "execution_count": 8,
   "id": "ae6f1a03",
   "metadata": {},
   "outputs": [],
   "source": [
    "if calculate:\n",
    "    total_astuteness = np.zeros(shape=(run_times, len(lambda_names), len(epsilon_range)))\n",
    "    for i in range(run_times):\n",
    "        print('Completing Run ' + str(i + 1) + ' of ' + str(run_times))\n",
    "        for (j, lambda_dense) in enumerate(lambda_dense_list):\n",
    "            all_layer_weights = pickle.load(open('extracted_weights/mnist_l2_' + str(j) + '.pk', 'rb'))\n",
    "            activation = 'relu'\n",
    "\n",
    "            model_input = Input(shape=(input_shape,), dtype='float32')\n",
    "\n",
    "            net = Dense(32, activation=activation, name='dense1',\n",
    "                        kernel_regularizer=regularizers.l2(1e-3))(model_input)\n",
    "            net = Dense(32, activation=activation, name='dense2',\n",
    "                        kernel_regularizer=regularizers.l2(1e-3))(net)\n",
    "            net = Dense(32, activation=activation, name='dense3',\n",
    "                        kernel_regularizer=regularizers.l2(1e-3))(net)\n",
    "            net = Dense(32, activation=activation, name='dense4',\n",
    "                        kernel_regularizer=regularizers.l2(1e-3))(net)\n",
    "            preds = Dense(10, activation='softmax', name='dense5',\n",
    "                          kernel_regularizer=regularizers.l2(1e-3))(net)\n",
    "            bbox_model = Model(model_input, preds)\n",
    "            bbox_model = set_all_weights(bbox_model, all_layer_weights)\n",
    "            pred_model = Model(model_input, preds)\n",
    "            background = x_train[np.random.choice(len(x_train), 100, replace=False)]\n",
    "            explainer = shap.GradientExplainer(pred_model, background)\n",
    "            fname = 'explained_weights/shap/' + 'shap_' + datatype + '_' + str(j) + '_' + str(i) + '_lip.gz'\n",
    "            explanations = np.loadtxt(fname, delimiter=',')\n",
    "            for k in tqdm(range(len(epsilon_range))):\n",
    "                _, total_astuteness[i, j, k], _ = calculate_robust_astute_sampled(data=x_val,\n",
    "                                                                                  explainer=explainer,\n",
    "                                                                                  explainer_type='shap',\n",
    "                                                                                  explanation_type='attribution',\n",
    "                                                                                  ball_r=median_rad,\n",
    "                                                                                  epsilon=epsilon_range[k],\n",
    "                                                                                  num_points=int(\n",
    "                                                                                      prop_points * len(\n",
    "                                                                                          x_val)),\n",
    "                                                                                  NN=True,\n",
    "                                                                                  data_explanation=explanations)\n",
    "    pickle.dump(total_astuteness, open(save_astuteness_file, 'wb'))\n",
    "else:\n",
    "    total_astuteness = pickle.load(open(save_astuteness_file, 'rb'))"
   ]
  },
  {
   "cell_type": "code",
   "execution_count": 9,
   "id": "9c857594",
   "metadata": {},
   "outputs": [
    {
     "data": {
      "image/png": "[encoded data removed]",
      "text/plain": [
       "<Figure size 432x288 with 1 Axes>"
      ]
     },
     "metadata": {
      "needs_background": "light"
     },
     "output_type": "display_data"
    }
   ],
   "source": [
    "astuteness_mean = total_astuteness.mean(axis=0)\n",
    "astuteness_std = total_astuteness.std(axis=0)\n",
    "image_name = 'plots/shap_' + datatype + '_astuteness_classifiers.PNG'\n",
    "fig, ax = plt.subplots()\n",
    "for i in range(len(lambda_names)):\n",
    "    ax.errorbar(x=epsilon_range, y=astuteness_mean[i, :], yerr=astuteness_std[i, :],\n",
    "                label=lambda_names[i])\n",
    "plt.legend()\n",
    "plt.savefig(image_name)\n",
    "plt.show()\n",
    "plt.close()"
   ]
  },
  {
   "cell_type": "code",
   "execution_count": 10,
   "id": "7fdb1a2d",
   "metadata": {},
   "outputs": [],
   "source": [
    "pickle.dump(total_astuteness, open(save_astuteness_file, 'wb'))"
   ]
  },
  {
   "cell_type": "code",
   "execution_count": null,
   "id": "5b34476f",
   "metadata": {},
   "outputs": [],
   "source": []
  }
 ],
 "metadata": {
  "kernelspec": {
   "display_name": "Python 3 (ipykernel)",
   "language": "python",
   "name": "python3"
  },
  "language_info": {
   "codemirror_mode": {
    "name": "ipython",
    "version": 3
   },
   "file_extension": ".py",
   "mimetype": "text/x-python",
   "name": "python",
   "nbconvert_exporter": "python",
   "pygments_lexer": "ipython3",
   "version": "3.9.7"
  }
 },
 "nbformat": 4,
 "nbformat_minor": 5
}
